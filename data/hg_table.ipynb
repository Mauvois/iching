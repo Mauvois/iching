{
 "cells": [
  {
   "cell_type": "code",
   "execution_count": 1,
   "metadata": {},
   "outputs": [],
   "source": [
    "import csv"
   ]
  },
  {
   "cell_type": "code",
   "execution_count": 2,
   "metadata": {},
   "outputs": [],
   "source": [
    "def load_db(filepath):\n",
    "\n",
    "    with open(filepath, encoding='utf-8', newline='') as f:\n",
    "        my_reader = csv.reader(f, delimiter=',')\n",
    "        header = next(my_reader)\n",
    "        ret = {}\n",
    "\n",
    "        linear = []\n",
    "\n",
    "        for s in header[1:]:\n",
    "            diz = {}\n",
    "            tokens = s.split('\\n')\n",
    "            tks = tokens[0].split('\\xa0')\n",
    "            diz['name-en'] = tokens[2]\n",
    "            diz['name-ch'] = tks[0]\n",
    "            diz['spelling'] = tks[1]\n",
    "            code = tokens[1]\n",
    "            ret[code] = diz\n",
    "            linear.append(code)\n",
    "\n",
    "        i = 1\n",
    "        for row in my_reader:\n",
    "            for j in range(1,len(row)):\n",
    "                tokens = row[j].replace('\\n','').split()\n",
    "                num = int(tokens[0])\n",
    "                bottom = linear[i-1]\n",
    "                upper = linear[j-1]\n",
    "                ret[bottom + upper] = {\n",
    "                    'name-en':' '.join(tokens[1:])\n",
    "                }\n",
    "            i += 1\n",
    "        return ret"
   ]
  },
  {
   "cell_type": "code",
   "execution_count": 3,
   "metadata": {},
   "outputs": [
    {
     "data": {
      "text/plain": [
       "{'111': {'name-en': 'Heaven', 'name-ch': '乾', 'spelling': 'Qián'},\n",
       " '000': {'name-en': 'Earth', 'name-ch': '坤', 'spelling': 'Kūn'},\n",
       " '100': {'name-en': 'Thunder', 'name-ch': '震', 'spelling': 'Zhèn'},\n",
       " '010': {'name-en': 'Water', 'name-ch': '坎', 'spelling': 'Kǎn'},\n",
       " '001': {'name-en': 'Mountain', 'name-ch': '艮', 'spelling': 'Gèn'},\n",
       " '011': {'name-en': 'Air', 'name-ch': '巽', 'spelling': 'Xùn'},\n",
       " '101': {'name-en': 'Fire', 'name-ch': '離', 'spelling': 'Lí'},\n",
       " '110': {'name-en': 'Lake', 'name-ch': '兌', 'spelling': 'Duì'},\n",
       " '111111': {'name-en': 'Force'},\n",
       " '111000': {'name-en': 'Pervading'},\n",
       " '111100': {'name-en': 'Great Invigorating'},\n",
       " '111010': {'name-en': 'Attending'},\n",
       " '111001': {'name-en': 'Great Accumulating'},\n",
       " '111011': {'name-en': 'Small Harvest'},\n",
       " '111101': {'name-en': 'Great Possessing'},\n",
       " '111110': {'name-en': 'Displacement'},\n",
       " '000111': {'name-en': 'Obstruction'},\n",
       " '000000': {'name-en': 'Field'},\n",
       " '000100': {'name-en': 'Providing For'},\n",
       " '000010': {'name-en': 'Grouping'},\n",
       " '000001': {'name-en': 'Stripping'},\n",
       " '000011': {'name-en': 'Viewing'},\n",
       " '000101': {'name-en': 'Prospering'},\n",
       " '000110': {'name-en': 'Clustering'},\n",
       " '100111': {'name-en': 'Innocence'},\n",
       " '100000': {'name-en': 'Returning'},\n",
       " '100100': {'name-en': 'Shake'},\n",
       " '100010': {'name-en': 'Sprouting'},\n",
       " '100001': {'name-en': 'Swallowing'},\n",
       " '100011': {'name-en': 'Augmenting'},\n",
       " '100101': {'name-en': 'Gnawing Bite'},\n",
       " '100110': {'name-en': 'Following'},\n",
       " '010111': {'name-en': 'Arguing'},\n",
       " '010000': {'name-en': 'Leading'},\n",
       " '010100': {'name-en': 'Deliverance'},\n",
       " '010010': {'name-en': 'Gorge'},\n",
       " '010001': {'name-en': 'Enveloping'},\n",
       " '010011': {'name-en': 'Dispersing'},\n",
       " '010101': {'name-en': 'Before Completion'},\n",
       " '010110': {'name-en': 'Confining'},\n",
       " '001111': {'name-en': 'Retiring'},\n",
       " '001000': {'name-en': 'Humbling'},\n",
       " '001100': {'name-en': 'Small Exceeding'},\n",
       " '001010': {'name-en': 'Limping'},\n",
       " '001001': {'name-en': 'Bound'},\n",
       " '001011': {'name-en': 'Infiltrating'},\n",
       " '001101': {'name-en': 'Sojourning'},\n",
       " '001110': {'name-en': 'Conjoining'},\n",
       " '011111': {'name-en': 'Coupling'},\n",
       " '011000': {'name-en': 'Ascending'},\n",
       " '011100': {'name-en': 'Persevering'},\n",
       " '011010': {'name-en': 'Welling'},\n",
       " '011001': {'name-en': 'Correcting'},\n",
       " '011011': {'name-en': 'Ground'},\n",
       " '011101': {'name-en': 'Holding'},\n",
       " '011110': {'name-en': 'Great Exceeding'},\n",
       " '101111': {'name-en': 'Concording People'},\n",
       " '101000': {'name-en': 'Intelligence Hidden'},\n",
       " '101100': {'name-en': 'Abounding'},\n",
       " '101010': {'name-en': 'Already Fording'},\n",
       " '101001': {'name-en': 'Adorning'},\n",
       " '101011': {'name-en': 'Dwelling People'},\n",
       " '101101': {'name-en': 'Radiance'},\n",
       " '101110': {'name-en': 'Skinning'},\n",
       " '110111': {'name-en': 'Treading'},\n",
       " '110000': {'name-en': 'Nearing'},\n",
       " '110100': {'name-en': 'Converting the Maiden'},\n",
       " '110010': {'name-en': 'Articulating'},\n",
       " '110001': {'name-en': 'Diminishing'},\n",
       " '110011': {'name-en': 'Inner Truth'},\n",
       " '110101': {'name-en': 'Polarising'},\n",
       " '110110': {'name-en': 'Open'}}"
      ]
     },
     "execution_count": 3,
     "metadata": {},
     "output_type": "execute_result"
    }
   ],
   "source": [
    "iching_db = load_db('iching.csv')\n",
    "iching_db"
   ]
  },
  {
   "cell_type": "code",
   "execution_count": null,
   "metadata": {},
   "outputs": [],
   "source": []
  }
 ],
 "metadata": {
  "kernelspec": {
   "display_name": "iching",
   "language": "python",
   "name": "python3"
  },
  "language_info": {
   "codemirror_mode": {
    "name": "ipython",
    "version": 3
   },
   "file_extension": ".py",
   "mimetype": "text/x-python",
   "name": "python",
   "nbconvert_exporter": "python",
   "pygments_lexer": "ipython3",
   "version": "3.11.3"
  }
 },
 "nbformat": 4,
 "nbformat_minor": 2
}
